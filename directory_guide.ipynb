{
 "cells": [
  {
   "cell_type": "markdown",
   "metadata": {},
   "source": [
    "# Directory Guide:\n",
    "\n",
    "This markdown document describes the structure of the **info628_final-project_fair-is** directory/repository; what the folder and subfolders contain. \n",
    "\n",
    "## Data\n",
    "the *data* folder contains:\n",
    "- all datasets used in this project\n",
    "- all datasets created in this project\n",
    "- any figures, graphs, or visualizations generated in this project \n",
    "\n",
    "### raw_data\n",
    "Contains original datasets I used in the creation of data for iteration 1 and 2 of this project. While it is important to always remeber that the binary between raw/processed data is a manufactured one, it is important to recognize and seperate data we as the researcher have done **no operations** on from those we have. \n",
    "\n",
    "### processed_data\n",
    "Contains data I used to create the **Iteration 3 Primary Dataset**, as well as the Primary Dataset itself and any subsequent tabular data created duing iteration 3 of the project.  \n",
    "\n",
    "### data_products\n",
    "contains any figures, graphs, or visualizations generated during the project\n",
    "\n",
    "## Notebooks\n",
    "the *notebooks* contains all jupyter notebooks created to illustrate the processses I completed as part of this project, including a copy of this guide. "
   ]
  }
 ],
 "metadata": {
  "kernelspec": {
   "display_name": "Python 3",
   "language": "python",
   "name": "python3"
  },
  "language_info": {
   "codemirror_mode": {
    "name": "ipython",
    "version": 3
   },
   "file_extension": ".py",
   "mimetype": "text/x-python",
   "name": "python",
   "nbconvert_exporter": "python",
   "pygments_lexer": "ipython3",
   "version": "3.8.3"
  }
 },
 "nbformat": 4,
 "nbformat_minor": 4
}
